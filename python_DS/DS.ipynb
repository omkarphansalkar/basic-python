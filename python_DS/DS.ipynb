{
  "nbformat": 4,
  "nbformat_minor": 0,
  "metadata": {
    "colab": {
      "provenance": [],
      "collapsed_sections": [
        "pJ3VBjWPaqQN",
        "kBI57DsYjzQY",
        "qU_y_MfmnfRO"
      ]
    },
    "kernelspec": {
      "name": "python3",
      "display_name": "Python 3"
    },
    "language_info": {
      "name": "python"
    }
  },
  "cells": [
    {
      "cell_type": "markdown",
      "source": [
        "# List"
      ],
      "metadata": {
        "id": "pJ3VBjWPaqQN"
      }
    },
    {
      "cell_type": "code",
      "execution_count": null,
      "metadata": {
        "id": "JE559GY3ahb4"
      },
      "outputs": [],
      "source": [
        "l1 = [101,201,431,612]\n",
        "l2 = ['anit', 'ashish']\n",
        "l2 = [ 34, 'ashish']"
      ]
    },
    {
      "cell_type": "code",
      "source": [
        "l1 = [101,201,431,612]\n",
        "    #  0.  1.  2.  3\n",
        "    # index always starts from zero"
      ],
      "metadata": {
        "id": "6_WktnB1bSjr"
      },
      "execution_count": null,
      "outputs": []
    },
    {
      "cell_type": "code",
      "source": [
        "#  get the elements based on its index\n",
        "\n",
        "print(l1[0])\n",
        "print(l1[3])"
      ],
      "metadata": {
        "colab": {
          "base_uri": "https://localhost:8080/"
        },
        "id": "pGFRTqD7bkVP",
        "outputId": "d297d6bf-8b69-490c-a7de-51a895005702"
      },
      "execution_count": null,
      "outputs": [
        {
          "output_type": "stream",
          "name": "stdout",
          "text": [
            "101\n",
            "612\n"
          ]
        }
      ]
    },
    {
      "cell_type": "markdown",
      "source": [
        "add elements"
      ],
      "metadata": {
        "id": "j4i5Y7W5d3ZM"
      }
    },
    {
      "cell_type": "code",
      "source": [
        "# append helps us to add single element in same list : if multi then it creates inner DS\n",
        "\n",
        "l1.append(333)\n",
        "print(l1)"
      ],
      "metadata": {
        "colab": {
          "base_uri": "https://localhost:8080/"
        },
        "id": "AJdZT4WSbofL",
        "outputId": "e72add3a-c181-4cf9-9eb8-97d0c6edff5d"
      },
      "execution_count": null,
      "outputs": [
        {
          "output_type": "stream",
          "name": "stdout",
          "text": [
            "[101, 201, 431, 612, 333]\n"
          ]
        }
      ]
    },
    {
      "cell_type": "code",
      "source": [
        "l1.append([333, 555])\n",
        "print(l1)"
      ],
      "metadata": {
        "colab": {
          "base_uri": "https://localhost:8080/"
        },
        "id": "fkxR10DbcJB9",
        "outputId": "7678e49c-6fe2-4e36-99e7-29f2b1f3ed0e"
      },
      "execution_count": null,
      "outputs": [
        {
          "output_type": "stream",
          "name": "stdout",
          "text": [
            "[101, 201, 431, 612, 333, [333, 555]]\n"
          ]
        }
      ]
    },
    {
      "cell_type": "code",
      "source": [
        "# extend helps us to add multi element in same list\n",
        "l1.extend([333, 555])\n",
        "print(l1)"
      ],
      "metadata": {
        "colab": {
          "base_uri": "https://localhost:8080/"
        },
        "id": "0I1lgCcScOTV",
        "outputId": "14913cac-d1e3-472a-c13c-2cfd8e6e906e"
      },
      "execution_count": null,
      "outputs": [
        {
          "output_type": "stream",
          "name": "stdout",
          "text": [
            "[101, 201, 431, 612, 333, 555]\n"
          ]
        }
      ]
    },
    {
      "cell_type": "code",
      "source": [
        "# insert : it add element at the specific index\n",
        "# insert(index, element)\n",
        "\n",
        "l1.insert(2, 999)\n",
        "print(l1)"
      ],
      "metadata": {
        "colab": {
          "base_uri": "https://localhost:8080/"
        },
        "id": "vzrz60jcclRq",
        "outputId": "b315a0e6-4116-4927-d88d-a206ffd5d0bb"
      },
      "execution_count": null,
      "outputs": [
        {
          "output_type": "stream",
          "name": "stdout",
          "text": [
            "[101, 201, 999, 431, 612, 333, 555]\n"
          ]
        }
      ]
    },
    {
      "cell_type": "code",
      "source": [
        "l1.insert(0, 999)\n",
        "print(l1)"
      ],
      "metadata": {
        "colab": {
          "base_uri": "https://localhost:8080/"
        },
        "id": "-5m3KjkvdN2w",
        "outputId": "65bff1d1-f7b3-4a92-c302-ecd65faf08e3"
      },
      "execution_count": null,
      "outputs": [
        {
          "output_type": "stream",
          "name": "stdout",
          "text": [
            "[999, 101, 201, 999, 431, 612, 333, 555]\n"
          ]
        }
      ]
    },
    {
      "cell_type": "code",
      "source": [
        "l1.insert(149, 999)\n",
        "print(l1)"
      ],
      "metadata": {
        "colab": {
          "base_uri": "https://localhost:8080/"
        },
        "id": "xKVXCKy9dTgy",
        "outputId": "97a8ce90-0df2-4452-81b4-f414758d66e3"
      },
      "execution_count": null,
      "outputs": [
        {
          "output_type": "stream",
          "name": "stdout",
          "text": [
            "[999, 101, 201, 999, 431, 612, 333, 555, 999]\n"
          ]
        }
      ]
    },
    {
      "cell_type": "code",
      "source": [
        "# replace element on specific index\n",
        "l1[0]= 1111"
      ],
      "metadata": {
        "id": "LWwKFm7kdoKc"
      },
      "execution_count": null,
      "outputs": []
    },
    {
      "cell_type": "code",
      "source": [
        "print(l1)"
      ],
      "metadata": {
        "colab": {
          "base_uri": "https://localhost:8080/"
        },
        "id": "qx3dytXBdpfF",
        "outputId": "6b7cbb16-45dc-419a-cd69-a7622109966d"
      },
      "execution_count": null,
      "outputs": [
        {
          "output_type": "stream",
          "name": "stdout",
          "text": [
            "[1111, 101, 201, 999, 431, 612, 333, [333, 555], 333, 555, 999, 999]\n"
          ]
        }
      ]
    },
    {
      "cell_type": "markdown",
      "source": [
        "remove elements"
      ],
      "metadata": {
        "id": "71U13hAhd6uu"
      }
    },
    {
      "cell_type": "code",
      "source": [
        "l1"
      ],
      "metadata": {
        "colab": {
          "base_uri": "https://localhost:8080/"
        },
        "id": "Nrvg3OHAduOd",
        "outputId": "6ee4ec03-e191-47ab-a68d-5de43985d6a6"
      },
      "execution_count": null,
      "outputs": [
        {
          "output_type": "execute_result",
          "data": {
            "text/plain": [
              "[1111, 101, 201, 999, 431, 612, 333, [333, 555], 333, 555, 999, 999]"
            ]
          },
          "metadata": {},
          "execution_count": 18
        }
      ]
    },
    {
      "cell_type": "code",
      "source": [
        "l1.remove(431) # remove by value\n",
        "print(l1)"
      ],
      "metadata": {
        "colab": {
          "base_uri": "https://localhost:8080/"
        },
        "id": "ms1hOL2Ld-o8",
        "outputId": "4519902c-eff7-4743-8ff9-266597bf718e"
      },
      "execution_count": null,
      "outputs": [
        {
          "output_type": "stream",
          "name": "stdout",
          "text": [
            "[1111, 101, 201, 999, 612, 333, [333, 555], 333, 555, 999, 999]\n"
          ]
        }
      ]
    },
    {
      "cell_type": "code",
      "source": [
        "l1.remove(999)\n",
        "print(l1)"
      ],
      "metadata": {
        "colab": {
          "base_uri": "https://localhost:8080/"
        },
        "id": "bcgn4SB3eFiy",
        "outputId": "9b934795-074f-4a5b-ec35-64354c5439b7"
      },
      "execution_count": null,
      "outputs": [
        {
          "output_type": "stream",
          "name": "stdout",
          "text": [
            "[1111, 101, 201, 612, 333, [333, 555], 333, 555, 999, 999]\n"
          ]
        }
      ]
    },
    {
      "cell_type": "code",
      "source": [
        "l1.remove(999)\n",
        "print(l1)"
      ],
      "metadata": {
        "colab": {
          "base_uri": "https://localhost:8080/"
        },
        "id": "VunK-AFHeIBE",
        "outputId": "7ce1756d-e683-41db-c11e-cb403425c1be"
      },
      "execution_count": null,
      "outputs": [
        {
          "output_type": "stream",
          "name": "stdout",
          "text": [
            "[1111, 101, 201, 612, 333, [333, 555], 333, 555, 999]\n"
          ]
        }
      ]
    },
    {
      "cell_type": "code",
      "source": [
        "l1.pop(5) # remove by index\n",
        "print(l1)"
      ],
      "metadata": {
        "colab": {
          "base_uri": "https://localhost:8080/"
        },
        "id": "gnPIvea8eSGj",
        "outputId": "dba5964a-bab1-43a0-9040-b46d426c15c9"
      },
      "execution_count": null,
      "outputs": [
        {
          "output_type": "stream",
          "name": "stdout",
          "text": [
            "[1111, 101, 201, 612, 333, 333, 555, 999]\n"
          ]
        }
      ]
    },
    {
      "cell_type": "code",
      "source": [
        "l1.clear() # it removes all elements but keep the data struct"
      ],
      "metadata": {
        "id": "iui6ungxefiA"
      },
      "execution_count": null,
      "outputs": []
    },
    {
      "cell_type": "code",
      "source": [
        "l1"
      ],
      "metadata": {
        "colab": {
          "base_uri": "https://localhost:8080/"
        },
        "id": "V0SKZPAmetQo",
        "outputId": "bb64fa42-dc24-4f04-8453-3d691601d6ba"
      },
      "execution_count": null,
      "outputs": [
        {
          "output_type": "execute_result",
          "data": {
            "text/plain": [
              "[]"
            ]
          },
          "metadata": {},
          "execution_count": 24
        }
      ]
    },
    {
      "cell_type": "code",
      "source": [
        "del l1  # it deletes the ele as well as DS\n",
        "print(l1)"
      ],
      "metadata": {
        "colab": {
          "base_uri": "https://localhost:8080/",
          "height": 159
        },
        "id": "XceMW0LHeuTq",
        "outputId": "88cba7b6-caf0-4925-e646-caafc9a5ce83"
      },
      "execution_count": null,
      "outputs": [
        {
          "output_type": "error",
          "ename": "NameError",
          "evalue": "name 'l1' is not defined",
          "traceback": [
            "\u001b[0;31m---------------------------------------------------------------------------\u001b[0m",
            "\u001b[0;31mNameError\u001b[0m                                 Traceback (most recent call last)",
            "\u001b[0;32m/tmp/ipython-input-25-3234357086.py\u001b[0m in \u001b[0;36m<cell line: 0>\u001b[0;34m()\u001b[0m\n\u001b[1;32m      1\u001b[0m \u001b[0;32mdel\u001b[0m \u001b[0ml1\u001b[0m\u001b[0;34m\u001b[0m\u001b[0;34m\u001b[0m\u001b[0m\n\u001b[0;32m----> 2\u001b[0;31m \u001b[0mprint\u001b[0m\u001b[0;34m(\u001b[0m\u001b[0ml1\u001b[0m\u001b[0;34m)\u001b[0m\u001b[0;34m\u001b[0m\u001b[0;34m\u001b[0m\u001b[0m\n\u001b[0m",
            "\u001b[0;31mNameError\u001b[0m: name 'l1' is not defined"
          ]
        }
      ]
    },
    {
      "cell_type": "code",
      "source": [
        "print(l1)"
      ],
      "metadata": {
        "colab": {
          "base_uri": "https://localhost:8080/"
        },
        "id": "a5qe7h7ie12n",
        "outputId": "7477684d-f9b0-460a-f927-5f65fa45f4c2"
      },
      "execution_count": null,
      "outputs": [
        {
          "output_type": "stream",
          "name": "stdout",
          "text": [
            "[1111, 101, 201, 999, 431, 612, 333, 555, 999]\n"
          ]
        }
      ]
    },
    {
      "cell_type": "code",
      "source": [
        "l1.count(999)"
      ],
      "metadata": {
        "colab": {
          "base_uri": "https://localhost:8080/"
        },
        "id": "zbVYOCXhfdkp",
        "outputId": "300e5f7a-074b-4db5-ceb5-fd1b2d4a4761"
      },
      "execution_count": null,
      "outputs": [
        {
          "output_type": "execute_result",
          "data": {
            "text/plain": [
              "2"
            ]
          },
          "metadata": {},
          "execution_count": 33
        }
      ]
    },
    {
      "cell_type": "code",
      "source": [
        "l1.sort()\n",
        "print(l1)"
      ],
      "metadata": {
        "colab": {
          "base_uri": "https://localhost:8080/"
        },
        "id": "88tZnDLhfswR",
        "outputId": "3ac17058-c438-486d-aa9a-f3f07487c2b6"
      },
      "execution_count": null,
      "outputs": [
        {
          "output_type": "stream",
          "name": "stdout",
          "text": [
            "[101, 201, 333, 431, 555, 612, 999, 999, 1111]\n"
          ]
        }
      ]
    },
    {
      "cell_type": "code",
      "source": [
        "l2 = l1.sort(reverse= True)\n",
        "print(l1)\n",
        "print(l2) # its NONE : sort() returns None, not a new list."
      ],
      "metadata": {
        "colab": {
          "base_uri": "https://localhost:8080/"
        },
        "id": "IZu7X10ef0J4",
        "outputId": "c42a479e-2cf4-41b2-9d49-021782b9047c"
      },
      "execution_count": null,
      "outputs": [
        {
          "output_type": "stream",
          "name": "stdout",
          "text": [
            "[1111, 999, 999, 612, 555, 431, 333, 201, 101]\n",
            "None\n"
          ]
        }
      ]
    },
    {
      "cell_type": "code",
      "source": [
        "l1.sort(reverse= True)\n",
        "print(l1)"
      ],
      "metadata": {
        "colab": {
          "base_uri": "https://localhost:8080/"
        },
        "id": "vigHytMbgFUw",
        "outputId": "1fe4c1af-6b6c-44e1-f995-dfd2f8a25ad3"
      },
      "execution_count": null,
      "outputs": [
        {
          "output_type": "stream",
          "name": "stdout",
          "text": [
            "[1111, 999, 999, 612, 555, 431, 333, 201, 101]\n"
          ]
        }
      ]
    },
    {
      "cell_type": "code",
      "source": [
        "l2 = sorted(l1) # if we want to store sort result in another list then we can use sorted\n",
        "print(l2)"
      ],
      "metadata": {
        "colab": {
          "base_uri": "https://localhost:8080/"
        },
        "id": "rxJmaKABgc0m",
        "outputId": "754c4e86-5680-4ff6-fc81-c57f8a087dd2"
      },
      "execution_count": null,
      "outputs": [
        {
          "output_type": "stream",
          "name": "stdout",
          "text": [
            "[101, 201, 333, 431, 555, 612, 999, 999, 1111]\n"
          ]
        }
      ]
    },
    {
      "cell_type": "code",
      "source": [
        "l2 = sorted(l1 ,reverse= True) # if we want to store sort result in another list then we can use sorted\n",
        "print(l2)"
      ],
      "metadata": {
        "colab": {
          "base_uri": "https://localhost:8080/"
        },
        "id": "p1t3bkshgqlJ",
        "outputId": "97bb2203-0f0d-44c7-c576-fe0b9c742449"
      },
      "execution_count": null,
      "outputs": [
        {
          "output_type": "stream",
          "name": "stdout",
          "text": [
            "[1111, 999, 999, 612, 555, 431, 333, 201, 101]\n"
          ]
        }
      ]
    },
    {
      "cell_type": "code",
      "source": [
        "print(max(l1))"
      ],
      "metadata": {
        "colab": {
          "base_uri": "https://localhost:8080/"
        },
        "id": "dw5yObjag6Gu",
        "outputId": "df7da959-c048-40db-fbe9-fda34c73dc67"
      },
      "execution_count": null,
      "outputs": [
        {
          "output_type": "stream",
          "name": "stdout",
          "text": [
            "1111\n"
          ]
        }
      ]
    },
    {
      "cell_type": "code",
      "source": [
        "print(min(l1))"
      ],
      "metadata": {
        "colab": {
          "base_uri": "https://localhost:8080/"
        },
        "id": "2YdxoITdhX5P",
        "outputId": "93878f63-1c8a-4b31-a0de-c25ebb2e903a"
      },
      "execution_count": null,
      "outputs": [
        {
          "output_type": "stream",
          "name": "stdout",
          "text": [
            "101\n"
          ]
        }
      ]
    },
    {
      "cell_type": "code",
      "source": [
        "print(sum(l1))"
      ],
      "metadata": {
        "colab": {
          "base_uri": "https://localhost:8080/"
        },
        "id": "Zf4EORNzhZdI",
        "outputId": "18772917-0b32-4197-c751-2ac3504184a3"
      },
      "execution_count": null,
      "outputs": [
        {
          "output_type": "stream",
          "name": "stdout",
          "text": [
            "5342\n"
          ]
        }
      ]
    },
    {
      "cell_type": "code",
      "source": [
        "# remove duplicates\n",
        "\n",
        "s1 = list(set(l1))\n",
        "print(type(s1))\n",
        "print(s1)"
      ],
      "metadata": {
        "colab": {
          "base_uri": "https://localhost:8080/"
        },
        "id": "ngL2X6z2hcYt",
        "outputId": "662b159e-53f7-4410-9a2a-348bd6dd7f06"
      },
      "execution_count": null,
      "outputs": [
        {
          "output_type": "stream",
          "name": "stdout",
          "text": [
            "<class 'list'>\n",
            "[612, 101, 999, 201, 555, 333, 431, 1111]\n"
          ]
        }
      ]
    },
    {
      "cell_type": "code",
      "source": [
        "# debug :\n",
        "\n",
        "s1 = set(l1)\n",
        "print(type(s1))\n",
        "print(s1)\n",
        "\n",
        "l2 = list(s1)\n",
        "print(type(l2))\n",
        "print(l2)"
      ],
      "metadata": {
        "colab": {
          "base_uri": "https://localhost:8080/"
        },
        "id": "FCfaT2jzhfgM",
        "outputId": "63289df4-4e70-4e6b-e837-03500bee2039"
      },
      "execution_count": null,
      "outputs": [
        {
          "output_type": "stream",
          "name": "stdout",
          "text": [
            "<class 'set'>\n",
            "{612, 101, 999, 201, 555, 333, 431, 1111}\n",
            "<class 'list'>\n",
            "[612, 101, 999, 201, 555, 333, 431, 1111]\n"
          ]
        }
      ]
    },
    {
      "cell_type": "code",
      "source": [
        "l1"
      ],
      "metadata": {
        "colab": {
          "base_uri": "https://localhost:8080/"
        },
        "id": "5OslsvMWisVO",
        "outputId": "137a22bd-f747-4e2c-9ded-99e05ddd73bf"
      },
      "execution_count": null,
      "outputs": [
        {
          "output_type": "execute_result",
          "data": {
            "text/plain": [
              "[1111, 999, 999, 612, 555, 431, 333, 201, 101]"
            ]
          },
          "metadata": {},
          "execution_count": 49
        }
      ]
    },
    {
      "cell_type": "code",
      "source": [
        "l1.reverse()\n",
        "print(l1)"
      ],
      "metadata": {
        "colab": {
          "base_uri": "https://localhost:8080/"
        },
        "id": "65Rb1z1Ri_jI",
        "outputId": "750c8d3a-b048-4f80-d682-fc16286bd024"
      },
      "execution_count": null,
      "outputs": [
        {
          "output_type": "stream",
          "name": "stdout",
          "text": [
            "[101, 201, 333, 431, 555, 612, 999, 999, 1111]\n"
          ]
        }
      ]
    },
    {
      "cell_type": "markdown",
      "source": [
        "# Tuple"
      ],
      "metadata": {
        "id": "kBI57DsYjzQY"
      }
    },
    {
      "cell_type": "code",
      "source": [
        "t1 = (102,344,123,124,451,456, 887,334,123,123)\n",
        "print(t1)\n",
        "print(type(t1))"
      ],
      "metadata": {
        "colab": {
          "base_uri": "https://localhost:8080/"
        },
        "id": "20fPGJ4LjExx",
        "outputId": "516692aa-d456-4497-ce3a-379a5ccdbb5c"
      },
      "execution_count": null,
      "outputs": [
        {
          "output_type": "stream",
          "name": "stdout",
          "text": [
            "(102, 344, 123, 124, 451, 456, 887, 334, 123, 123)\n",
            "<class 'tuple'>\n"
          ]
        }
      ]
    },
    {
      "cell_type": "code",
      "source": [
        "t1.append(1) # we cant alter tuple after declaration"
      ],
      "metadata": {
        "colab": {
          "base_uri": "https://localhost:8080/",
          "height": 141
        },
        "id": "bPtNBpCgkHbI",
        "outputId": "477002d2-485e-461e-98bb-4a00611bd47a"
      },
      "execution_count": null,
      "outputs": [
        {
          "output_type": "error",
          "ename": "AttributeError",
          "evalue": "'tuple' object has no attribute 'append'",
          "traceback": [
            "\u001b[0;31m---------------------------------------------------------------------------\u001b[0m",
            "\u001b[0;31mAttributeError\u001b[0m                            Traceback (most recent call last)",
            "\u001b[0;32m/tmp/ipython-input-2-1847869439.py\u001b[0m in \u001b[0;36m<cell line: 0>\u001b[0;34m()\u001b[0m\n\u001b[0;32m----> 1\u001b[0;31m \u001b[0mt1\u001b[0m\u001b[0;34m.\u001b[0m\u001b[0mappend\u001b[0m\u001b[0;34m(\u001b[0m\u001b[0;36m1\u001b[0m\u001b[0;34m)\u001b[0m\u001b[0;34m\u001b[0m\u001b[0;34m\u001b[0m\u001b[0m\n\u001b[0m",
            "\u001b[0;31mAttributeError\u001b[0m: 'tuple' object has no attribute 'append'"
          ]
        }
      ]
    },
    {
      "cell_type": "code",
      "source": [
        "t1.extend((1,2,3))"
      ],
      "metadata": {
        "colab": {
          "base_uri": "https://localhost:8080/",
          "height": 141
        },
        "id": "veeVKIpkkN2z",
        "outputId": "17038e88-7a0f-4928-fd4d-796f10e656b4"
      },
      "execution_count": null,
      "outputs": [
        {
          "output_type": "error",
          "ename": "AttributeError",
          "evalue": "'tuple' object has no attribute 'extend'",
          "traceback": [
            "\u001b[0;31m---------------------------------------------------------------------------\u001b[0m",
            "\u001b[0;31mAttributeError\u001b[0m                            Traceback (most recent call last)",
            "\u001b[0;32m/tmp/ipython-input-4-131191611.py\u001b[0m in \u001b[0;36m<cell line: 0>\u001b[0;34m()\u001b[0m\n\u001b[0;32m----> 1\u001b[0;31m \u001b[0mt1\u001b[0m\u001b[0;34m.\u001b[0m\u001b[0mextend\u001b[0m\u001b[0;34m(\u001b[0m\u001b[0;34m(\u001b[0m\u001b[0;36m1\u001b[0m\u001b[0;34m,\u001b[0m\u001b[0;36m2\u001b[0m\u001b[0;34m,\u001b[0m\u001b[0;36m3\u001b[0m\u001b[0;34m)\u001b[0m\u001b[0;34m)\u001b[0m\u001b[0;34m\u001b[0m\u001b[0;34m\u001b[0m\u001b[0m\n\u001b[0m",
            "\u001b[0;31mAttributeError\u001b[0m: 'tuple' object has no attribute 'extend'"
          ]
        }
      ]
    },
    {
      "cell_type": "code",
      "source": [
        "t1.remove((1,2,3))"
      ],
      "metadata": {
        "colab": {
          "base_uri": "https://localhost:8080/",
          "height": 141
        },
        "id": "vSOBeCszkVHQ",
        "outputId": "5ca2a220-e68a-4ca2-ff81-de7c1a541bc2"
      },
      "execution_count": null,
      "outputs": [
        {
          "output_type": "error",
          "ename": "AttributeError",
          "evalue": "'tuple' object has no attribute 'remove'",
          "traceback": [
            "\u001b[0;31m---------------------------------------------------------------------------\u001b[0m",
            "\u001b[0;31mAttributeError\u001b[0m                            Traceback (most recent call last)",
            "\u001b[0;32m/tmp/ipython-input-5-2118688499.py\u001b[0m in \u001b[0;36m<cell line: 0>\u001b[0;34m()\u001b[0m\n\u001b[0;32m----> 1\u001b[0;31m \u001b[0mt1\u001b[0m\u001b[0;34m.\u001b[0m\u001b[0mremove\u001b[0m\u001b[0;34m(\u001b[0m\u001b[0;34m(\u001b[0m\u001b[0;36m1\u001b[0m\u001b[0;34m,\u001b[0m\u001b[0;36m2\u001b[0m\u001b[0;34m,\u001b[0m\u001b[0;36m3\u001b[0m\u001b[0;34m)\u001b[0m\u001b[0;34m)\u001b[0m\u001b[0;34m\u001b[0m\u001b[0;34m\u001b[0m\u001b[0m\n\u001b[0m",
            "\u001b[0;31mAttributeError\u001b[0m: 'tuple' object has no attribute 'remove'"
          ]
        }
      ]
    },
    {
      "cell_type": "code",
      "source": [
        "t1[0] = 100"
      ],
      "metadata": {
        "colab": {
          "base_uri": "https://localhost:8080/",
          "height": 141
        },
        "id": "MkqZNPKakdI3",
        "outputId": "74b66fcd-791d-4f91-bc55-96ea54db1c85"
      },
      "execution_count": null,
      "outputs": [
        {
          "output_type": "error",
          "ename": "TypeError",
          "evalue": "'tuple' object does not support item assignment",
          "traceback": [
            "\u001b[0;31m---------------------------------------------------------------------------\u001b[0m",
            "\u001b[0;31mTypeError\u001b[0m                                 Traceback (most recent call last)",
            "\u001b[0;32m/tmp/ipython-input-7-4248540327.py\u001b[0m in \u001b[0;36m<cell line: 0>\u001b[0;34m()\u001b[0m\n\u001b[0;32m----> 1\u001b[0;31m \u001b[0mt1\u001b[0m\u001b[0;34m[\u001b[0m\u001b[0;36m0\u001b[0m\u001b[0;34m]\u001b[0m \u001b[0;34m=\u001b[0m \u001b[0;36m100\u001b[0m\u001b[0;34m\u001b[0m\u001b[0;34m\u001b[0m\u001b[0m\n\u001b[0m",
            "\u001b[0;31mTypeError\u001b[0m: 'tuple' object does not support item assignment"
          ]
        }
      ]
    },
    {
      "cell_type": "code",
      "source": [
        "print(t1.count(123))"
      ],
      "metadata": {
        "colab": {
          "base_uri": "https://localhost:8080/"
        },
        "id": "5P9iP8xUkfCz",
        "outputId": "2892a16a-0ac6-426d-a7c3-c35eaa081061"
      },
      "execution_count": null,
      "outputs": [
        {
          "output_type": "stream",
          "name": "stdout",
          "text": [
            "3\n"
          ]
        }
      ]
    },
    {
      "cell_type": "code",
      "source": [
        "print(len(t1))"
      ],
      "metadata": {
        "colab": {
          "base_uri": "https://localhost:8080/"
        },
        "id": "BjZI3Ft6kwJ7",
        "outputId": "10a1f09c-b1fc-47ba-bd7d-41de1cd12e36"
      },
      "execution_count": null,
      "outputs": [
        {
          "output_type": "stream",
          "name": "stdout",
          "text": [
            "10\n"
          ]
        }
      ]
    },
    {
      "cell_type": "code",
      "source": [
        "max(t1)"
      ],
      "metadata": {
        "colab": {
          "base_uri": "https://localhost:8080/"
        },
        "id": "r3NzntU7k06o",
        "outputId": "8476ee27-bb5d-4090-c4e6-38d7b67341a5"
      },
      "execution_count": null,
      "outputs": [
        {
          "output_type": "execute_result",
          "data": {
            "text/plain": [
              "887"
            ]
          },
          "metadata": {},
          "execution_count": 12
        }
      ]
    },
    {
      "cell_type": "code",
      "source": [
        "min(t1)"
      ],
      "metadata": {
        "colab": {
          "base_uri": "https://localhost:8080/"
        },
        "id": "b6dx8cYMk24N",
        "outputId": "0dd4f698-b017-497e-c01d-dfe9b893c85c"
      },
      "execution_count": null,
      "outputs": [
        {
          "output_type": "execute_result",
          "data": {
            "text/plain": [
              "102"
            ]
          },
          "metadata": {},
          "execution_count": 13
        }
      ]
    },
    {
      "cell_type": "code",
      "source": [
        "# try all other operations from list"
      ],
      "metadata": {
        "id": "rJlhoM6Hk3xr"
      },
      "execution_count": null,
      "outputs": []
    },
    {
      "cell_type": "code",
      "source": [
        "t1 = (102,344,123,124,451,456, 887,334,123,123)\n",
        "\n",
        "for i in  t1: # i == 102, 344\n",
        "  print(i)\n"
      ],
      "metadata": {
        "colab": {
          "base_uri": "https://localhost:8080/"
        },
        "id": "6A1BqxuzlD3F",
        "outputId": "efbc6f12-c8cd-4947-fc23-b2d98f054617"
      },
      "execution_count": null,
      "outputs": [
        {
          "output_type": "stream",
          "name": "stdout",
          "text": [
            "102\n",
            "344\n",
            "123\n",
            "124\n",
            "451\n",
            "456\n",
            "887\n",
            "334\n",
            "123\n",
            "123\n"
          ]
        }
      ]
    },
    {
      "cell_type": "code",
      "source": [
        "#   51\n",
        "# 2)---\n",
        "#   102\n",
        "#   -10\n",
        "#   ----\n",
        "#   2\n",
        "#   -2\n",
        "#   ---\n",
        "#   0"
      ],
      "metadata": {
        "id": "W6vfQLQ3l9m6"
      },
      "execution_count": null,
      "outputs": []
    },
    {
      "cell_type": "code",
      "source": [
        "t1 = (102,344,123,124,451,456, 887,334,123,123)\n",
        "\n",
        "for i in  t1:\n",
        "  print(f'current iterating element : {i}')\n",
        "\n",
        "  if i % 2 == 0:\n",
        "    print('even')\n",
        "  else:\n",
        "    print('odd')\n"
      ],
      "metadata": {
        "colab": {
          "base_uri": "https://localhost:8080/"
        },
        "id": "dcKX536Els89",
        "outputId": "3e93ed0f-089b-483c-9372-69165683ad98"
      },
      "execution_count": null,
      "outputs": [
        {
          "output_type": "stream",
          "name": "stdout",
          "text": [
            "current iterating element : 102\n",
            "even\n",
            "current iterating element : 344\n",
            "even\n",
            "current iterating element : 123\n",
            "odd\n",
            "current iterating element : 124\n",
            "even\n",
            "current iterating element : 451\n",
            "odd\n",
            "current iterating element : 456\n",
            "even\n",
            "current iterating element : 887\n",
            "odd\n",
            "current iterating element : 334\n",
            "even\n",
            "current iterating element : 123\n",
            "odd\n",
            "current iterating element : 123\n",
            "odd\n"
          ]
        }
      ]
    },
    {
      "cell_type": "code",
      "source": [
        "del t1"
      ],
      "metadata": {
        "id": "y_op0Nnsm6Pg"
      },
      "execution_count": null,
      "outputs": []
    },
    {
      "cell_type": "code",
      "source": [
        "t1"
      ],
      "metadata": {
        "colab": {
          "base_uri": "https://localhost:8080/",
          "height": 141
        },
        "id": "DfCoH9t5nTBN",
        "outputId": "5a7b8f74-4b00-492b-8665-53ebc107f33b"
      },
      "execution_count": null,
      "outputs": [
        {
          "output_type": "error",
          "ename": "NameError",
          "evalue": "name 't1' is not defined",
          "traceback": [
            "\u001b[0;31m---------------------------------------------------------------------------\u001b[0m",
            "\u001b[0;31mNameError\u001b[0m                                 Traceback (most recent call last)",
            "\u001b[0;32m/tmp/ipython-input-18-2524635252.py\u001b[0m in \u001b[0;36m<cell line: 0>\u001b[0;34m()\u001b[0m\n\u001b[0;32m----> 1\u001b[0;31m \u001b[0mt1\u001b[0m\u001b[0;34m\u001b[0m\u001b[0;34m\u001b[0m\u001b[0m\n\u001b[0m",
            "\u001b[0;31mNameError\u001b[0m: name 't1' is not defined"
          ]
        }
      ]
    },
    {
      "cell_type": "markdown",
      "source": [
        "# Set"
      ],
      "metadata": {
        "id": "qU_y_MfmnfRO"
      }
    },
    {
      "cell_type": "code",
      "source": [
        "s1 = {102,344,123,124,451,456, 887}\n",
        "print(s1)\n",
        "print(type(s1))"
      ],
      "metadata": {
        "colab": {
          "base_uri": "https://localhost:8080/"
        },
        "id": "P9XglJFvnT1D",
        "outputId": "b254f48f-ab76-43f2-f237-d8e85b3b9dbb"
      },
      "execution_count": null,
      "outputs": [
        {
          "output_type": "stream",
          "name": "stdout",
          "text": [
            "{451, 344, 102, 887, 456, 123, 124}\n",
            "<class 'set'>\n"
          ]
        }
      ]
    },
    {
      "cell_type": "code",
      "source": [
        "s2 = {102,344,123,124,451,456, 887,887, 877,877,877,877}\n",
        "print(s2)"
      ],
      "metadata": {
        "colab": {
          "base_uri": "https://localhost:8080/"
        },
        "id": "NDx-VjVZn3C2",
        "outputId": "ea838d1f-b224-4da6-a4a4-64427962be2c"
      },
      "execution_count": null,
      "outputs": [
        {
          "output_type": "stream",
          "name": "stdout",
          "text": [
            "{451, 102, 456, 877, 887, 344, 123, 124}\n"
          ]
        }
      ]
    },
    {
      "cell_type": "code",
      "source": [
        "s1.add(999)\n",
        "s1"
      ],
      "metadata": {
        "colab": {
          "base_uri": "https://localhost:8080/"
        },
        "id": "osCmwfwzoK6x",
        "outputId": "93fe45c6-11a0-46ec-b105-1bf9caee07a7"
      },
      "execution_count": null,
      "outputs": [
        {
          "output_type": "execute_result",
          "data": {
            "text/plain": [
              "{102, 123, 124, 344, 451, 456, 887, 999}"
            ]
          },
          "metadata": {},
          "execution_count": 23
        }
      ]
    },
    {
      "cell_type": "code",
      "source": [
        "s1.update([222,3333,555,3222])\n",
        "s1"
      ],
      "metadata": {
        "colab": {
          "base_uri": "https://localhost:8080/"
        },
        "id": "u8VYEw4DoUDA",
        "outputId": "c0711660-1759-4888-c9f8-f736b1c1f72b"
      },
      "execution_count": null,
      "outputs": [
        {
          "output_type": "execute_result",
          "data": {
            "text/plain": [
              "{102, 123, 124, 222, 344, 451, 456, 555, 887, 999, 3222, 3333}"
            ]
          },
          "metadata": {},
          "execution_count": 25
        }
      ]
    },
    {
      "cell_type": "code",
      "source": [
        "s1.remove(222)\n",
        "s1"
      ],
      "metadata": {
        "colab": {
          "base_uri": "https://localhost:8080/"
        },
        "id": "XAPTKS-moWUz",
        "outputId": "0a371fe4-d761-417d-bb46-e77268a14c6f"
      },
      "execution_count": null,
      "outputs": [
        {
          "output_type": "execute_result",
          "data": {
            "text/plain": [
              "{102, 123, 124, 344, 451, 456, 555, 887, 999, 3222, 3333}"
            ]
          },
          "metadata": {},
          "execution_count": 27
        }
      ]
    },
    {
      "cell_type": "code",
      "source": [
        "s1.remove(8888888)"
      ],
      "metadata": {
        "colab": {
          "base_uri": "https://localhost:8080/",
          "height": 141
        },
        "id": "QyS8OJgqpLri",
        "outputId": "881cb8ed-f00f-46b2-cb49-339e8355f1df"
      },
      "execution_count": null,
      "outputs": [
        {
          "output_type": "error",
          "ename": "KeyError",
          "evalue": "8888888",
          "traceback": [
            "\u001b[0;31m---------------------------------------------------------------------------\u001b[0m",
            "\u001b[0;31mKeyError\u001b[0m                                  Traceback (most recent call last)",
            "\u001b[0;32m/tmp/ipython-input-29-2346562520.py\u001b[0m in \u001b[0;36m<cell line: 0>\u001b[0;34m()\u001b[0m\n\u001b[0;32m----> 1\u001b[0;31m \u001b[0ms1\u001b[0m\u001b[0;34m.\u001b[0m\u001b[0mremove\u001b[0m\u001b[0;34m(\u001b[0m\u001b[0;36m8888888\u001b[0m\u001b[0;34m)\u001b[0m\u001b[0;34m\u001b[0m\u001b[0;34m\u001b[0m\u001b[0m\n\u001b[0m",
            "\u001b[0;31mKeyError\u001b[0m: 8888888"
          ]
        }
      ]
    },
    {
      "cell_type": "code",
      "source": [
        "s1.discard(88888888)  # Removes 8888888, does nothing if 88888888 not in set"
      ],
      "metadata": {
        "id": "5Z817_qXpPNT"
      },
      "execution_count": null,
      "outputs": []
    },
    {
      "cell_type": "code",
      "source": [
        "s1.pop(2)"
      ],
      "metadata": {
        "colab": {
          "base_uri": "https://localhost:8080/",
          "height": 141
        },
        "id": "-FwqV1r4ouat",
        "outputId": "791c7cbe-acd7-4f8c-c6ab-065d8228b930"
      },
      "execution_count": null,
      "outputs": [
        {
          "output_type": "error",
          "ename": "TypeError",
          "evalue": "set.pop() takes no arguments (1 given)",
          "traceback": [
            "\u001b[0;31m---------------------------------------------------------------------------\u001b[0m",
            "\u001b[0;31mTypeError\u001b[0m                                 Traceback (most recent call last)",
            "\u001b[0;32m/tmp/ipython-input-28-121748120.py\u001b[0m in \u001b[0;36m<cell line: 0>\u001b[0;34m()\u001b[0m\n\u001b[0;32m----> 1\u001b[0;31m \u001b[0ms1\u001b[0m\u001b[0;34m.\u001b[0m\u001b[0mpop\u001b[0m\u001b[0;34m(\u001b[0m\u001b[0;36m2\u001b[0m\u001b[0;34m)\u001b[0m\u001b[0;34m\u001b[0m\u001b[0;34m\u001b[0m\u001b[0m\n\u001b[0m",
            "\u001b[0;31mTypeError\u001b[0m: set.pop() takes no arguments (1 given)"
          ]
        }
      ]
    },
    {
      "cell_type": "code",
      "source": [
        "s1 = {1,2,3}\n",
        "s2 = {3,2,5}\n",
        "\n",
        "unique_ele = s2.union(s1)\n",
        "print(unique_ele)\n",
        "\n",
        "\n",
        "unique_ele = s2 | s1\n",
        "print(unique_ele)\n"
      ],
      "metadata": {
        "colab": {
          "base_uri": "https://localhost:8080/"
        },
        "id": "kJ7WPYXmo72f",
        "outputId": "60122217-ea7e-45fe-d16f-60edb4ea5f81"
      },
      "execution_count": null,
      "outputs": [
        {
          "output_type": "stream",
          "name": "stdout",
          "text": [
            "{1, 2, 3, 5}\n",
            "{1, 2, 3, 5}\n"
          ]
        }
      ]
    },
    {
      "cell_type": "code",
      "source": [
        "s1 = {1,2,3}\n",
        "s2 = {3,2,5}\n",
        "\n",
        "common_ele = s2.intersection(s1)\n",
        "print(common_ele)\n",
        "\n",
        "\n",
        "common_ele = s2 & s1\n",
        "print(common_ele)"
      ],
      "metadata": {
        "colab": {
          "base_uri": "https://localhost:8080/"
        },
        "id": "w2XCiKCDp6zL",
        "outputId": "a48ff8cf-9306-4613-8914-517e957e1902"
      },
      "execution_count": null,
      "outputs": [
        {
          "output_type": "stream",
          "name": "stdout",
          "text": [
            "{2, 3}\n",
            "{2, 3}\n"
          ]
        }
      ]
    },
    {
      "cell_type": "code",
      "source": [
        "s1 = {1,2,3}\n",
        "s2 = {3,2,5}\n",
        "\n",
        "ele = s2.symmetric_difference(s1)\n",
        "print(ele)\n",
        "\n",
        "ele = s2 ^ s1\n",
        "print(ele)"
      ],
      "metadata": {
        "colab": {
          "base_uri": "https://localhost:8080/"
        },
        "id": "nVU1SKXbqDsr",
        "outputId": "e3131962-5cda-49ee-ea64-f4bcfca392f7"
      },
      "execution_count": null,
      "outputs": [
        {
          "output_type": "stream",
          "name": "stdout",
          "text": [
            "{1, 5}\n",
            "{1, 5}\n"
          ]
        }
      ]
    },
    {
      "cell_type": "code",
      "source": [
        "s2 = {102,344,123,124,451,456, 887,887, 877,877,877,877}\n",
        "print(s2)"
      ],
      "metadata": {
        "colab": {
          "base_uri": "https://localhost:8080/"
        },
        "id": "CujZsV99qsW3",
        "outputId": "02e3ef47-dd7e-4cc5-a547-2100c9ae4ab1"
      },
      "execution_count": null,
      "outputs": [
        {
          "output_type": "stream",
          "name": "stdout",
          "text": [
            "{451, 102, 456, 877, 887, 344, 123, 124}\n"
          ]
        }
      ]
    },
    {
      "cell_type": "code",
      "source": [
        "for i in s2 :\n",
        "  print(i)\n",
        "  if i % 2 == 0:\n",
        "    print('even')\n",
        "  else:\n",
        "    print('odd')"
      ],
      "metadata": {
        "colab": {
          "base_uri": "https://localhost:8080/"
        },
        "id": "ZfrY0Bn1q0nD",
        "outputId": "e086f053-e701-43a9-ac36-15ff4d35b855"
      },
      "execution_count": null,
      "outputs": [
        {
          "output_type": "stream",
          "name": "stdout",
          "text": [
            "451\n",
            "odd\n",
            "102\n",
            "even\n",
            "456\n",
            "even\n",
            "877\n",
            "odd\n",
            "887\n",
            "odd\n",
            "344\n",
            "even\n",
            "123\n",
            "odd\n",
            "124\n",
            "even\n"
          ]
        }
      ]
    },
    {
      "cell_type": "markdown",
      "source": [
        "# Dict"
      ],
      "metadata": {
        "id": "I1vKjn77radX"
      }
    },
    {
      "cell_type": "code",
      "source": [
        "dict_student_details = {'Name': 'sumit',\n",
        "                        'age': 24,\n",
        "                        'edu': 'B.Tech',\n",
        "                        'loc': 'Pune'\n",
        "                        }\n",
        "dict_student_details"
      ],
      "metadata": {
        "colab": {
          "base_uri": "https://localhost:8080/"
        },
        "id": "fWToySEOraDF",
        "outputId": "be895b3c-41a0-479b-a92a-5f5cfe900961"
      },
      "execution_count": null,
      "outputs": [
        {
          "output_type": "execute_result",
          "data": {
            "text/plain": [
              "{'Name': 'sumit', 'age': 24, 'edu': 'B.Tech', 'loc': 'Pune'}"
            ]
          },
          "metadata": {},
          "execution_count": 1
        }
      ]
    },
    {
      "cell_type": "code",
      "source": [
        "dict_student_details.keys()"
      ],
      "metadata": {
        "colab": {
          "base_uri": "https://localhost:8080/"
        },
        "id": "MaGd6bz1rA0e",
        "outputId": "41109a58-0c4e-4299-924b-8eaaa813563b"
      },
      "execution_count": null,
      "outputs": [
        {
          "output_type": "execute_result",
          "data": {
            "text/plain": [
              "dict_keys(['Name', 'age', 'edu', 'loc'])"
            ]
          },
          "metadata": {},
          "execution_count": 46
        }
      ]
    },
    {
      "cell_type": "code",
      "source": [
        "dict_student_details.values()"
      ],
      "metadata": {
        "colab": {
          "base_uri": "https://localhost:8080/"
        },
        "id": "gz0fQrfjq3Ot",
        "outputId": "f8cb295f-e176-4608-8d5c-e3d5bccad0e7"
      },
      "execution_count": null,
      "outputs": [
        {
          "output_type": "execute_result",
          "data": {
            "text/plain": [
              "dict_values(['sumit', 24, 'B.Tech', 'Pune'])"
            ]
          },
          "metadata": {},
          "execution_count": 47
        }
      ]
    },
    {
      "cell_type": "code",
      "source": [
        "dict_student_details.items()"
      ],
      "metadata": {
        "colab": {
          "base_uri": "https://localhost:8080/"
        },
        "id": "kyS21cycsUf6",
        "outputId": "b3a78f88-ef67-4294-ad76-a0c05ac22d74"
      },
      "execution_count": null,
      "outputs": [
        {
          "output_type": "execute_result",
          "data": {
            "text/plain": [
              "dict_items([('Name', 'sumit'), ('age', 24), ('edu', 'B.Tech'), ('loc', 'Pune')])"
            ]
          },
          "metadata": {},
          "execution_count": 48
        }
      ]
    },
    {
      "cell_type": "code",
      "source": [
        "dict_student_details['Name']"
      ],
      "metadata": {
        "colab": {
          "base_uri": "https://localhost:8080/",
          "height": 35
        },
        "id": "IBFfdn-MsYEf",
        "outputId": "9a1251f4-2e15-4700-e55c-b6f906e5cfde"
      },
      "execution_count": null,
      "outputs": [
        {
          "output_type": "execute_result",
          "data": {
            "text/plain": [
              "'sumit'"
            ],
            "application/vnd.google.colaboratory.intrinsic+json": {
              "type": "string"
            }
          },
          "metadata": {},
          "execution_count": 51
        }
      ]
    },
    {
      "cell_type": "code",
      "source": [
        "dict_student_details.get('age')"
      ],
      "metadata": {
        "colab": {
          "base_uri": "https://localhost:8080/"
        },
        "id": "qdZ9WTB_scd3",
        "outputId": "ddd2e9ca-5685-4046-853e-37f947979b0c"
      },
      "execution_count": null,
      "outputs": [
        {
          "output_type": "execute_result",
          "data": {
            "text/plain": [
              "24"
            ]
          },
          "metadata": {},
          "execution_count": 52
        }
      ]
    },
    {
      "cell_type": "code",
      "source": [
        "dict_student_details['Name'] = 'sameer'\n",
        "dict_student_details['age'] = 102\n",
        "dict_student_details"
      ],
      "metadata": {
        "colab": {
          "base_uri": "https://localhost:8080/"
        },
        "id": "813ytP0Lsx1F",
        "outputId": "a7c3cbc4-040c-465b-caab-9380996237b1"
      },
      "execution_count": null,
      "outputs": [
        {
          "output_type": "execute_result",
          "data": {
            "text/plain": [
              "{'Name': 'sameer', 'age': 102, 'edu': 'B.Tech', 'loc': 'Pune'}"
            ]
          },
          "metadata": {},
          "execution_count": 55
        }
      ]
    },
    {
      "cell_type": "code",
      "source": [
        "del dict_student_details['loc']\n",
        "dict_student_details"
      ],
      "metadata": {
        "colab": {
          "base_uri": "https://localhost:8080/"
        },
        "id": "bDb6GhQJs7_m",
        "outputId": "95dad78c-6d3e-4ad2-aa4a-b0f41fa4c118"
      },
      "execution_count": null,
      "outputs": [
        {
          "output_type": "execute_result",
          "data": {
            "text/plain": [
              "{'Name': 'sameer', 'age': 102, 'edu': 'B.Tech'}"
            ]
          },
          "metadata": {},
          "execution_count": 56
        }
      ]
    },
    {
      "cell_type": "code",
      "source": [
        "dict_student_details.pop('edu')\n",
        "dict_student_details"
      ],
      "metadata": {
        "colab": {
          "base_uri": "https://localhost:8080/"
        },
        "id": "zyUKWilctKZE",
        "outputId": "b2a3eb26-a79e-40c1-e926-074c6bd576c3"
      },
      "execution_count": null,
      "outputs": [
        {
          "output_type": "execute_result",
          "data": {
            "text/plain": [
              "{'Name': 'sameer', 'age': 102}"
            ]
          },
          "metadata": {},
          "execution_count": 57
        }
      ]
    },
    {
      "cell_type": "code",
      "source": [
        "dict_student_details.popitem()\n",
        "dict_student_details"
      ],
      "metadata": {
        "colab": {
          "base_uri": "https://localhost:8080/"
        },
        "id": "JRo1qALTtV9_",
        "outputId": "b5a44f45-f2a3-4a19-d3c2-c11bd375bead"
      },
      "execution_count": null,
      "outputs": [
        {
          "output_type": "execute_result",
          "data": {
            "text/plain": [
              "{'Name': 'sameer'}"
            ]
          },
          "metadata": {},
          "execution_count": 59
        }
      ]
    },
    {
      "cell_type": "code",
      "source": [
        "dict_student_details.popitem()\n",
        "dict_student_details"
      ],
      "metadata": {
        "colab": {
          "base_uri": "https://localhost:8080/"
        },
        "id": "gOIPEuQEtemB",
        "outputId": "0a9f06fe-e33a-40ac-e859-502f3461540c"
      },
      "execution_count": null,
      "outputs": [
        {
          "output_type": "execute_result",
          "data": {
            "text/plain": [
              "{}"
            ]
          },
          "metadata": {},
          "execution_count": 60
        }
      ]
    },
    {
      "cell_type": "code",
      "source": [
        "dict_student_details.clear()"
      ],
      "metadata": {
        "id": "gehfzG9OtjMa"
      },
      "execution_count": null,
      "outputs": []
    },
    {
      "cell_type": "code",
      "source": [
        "dict =                 {'Name': 'sumit',\n",
        "                        'age': 24,\n",
        "                        'edu': 'B.Tech',\n",
        "                        'loc': 'Pune'\n",
        "                        }\n",
        "dict"
      ],
      "metadata": {
        "id": "NLDg62oxtooK",
        "colab": {
          "base_uri": "https://localhost:8080/"
        },
        "outputId": "c0df1d95-95e8-4937-d54d-b381d6b383d2"
      },
      "execution_count": null,
      "outputs": [
        {
          "output_type": "execute_result",
          "data": {
            "text/plain": [
              "{'Name': 'sumit', 'age': 24, 'edu': 'B.Tech', 'loc': 'Pune'}"
            ]
          },
          "metadata": {},
          "execution_count": 2
        }
      ]
    },
    {
      "cell_type": "code",
      "source": [
        "for i in dict.items():\n",
        "  print(i)"
      ],
      "metadata": {
        "colab": {
          "base_uri": "https://localhost:8080/"
        },
        "id": "KC4U9oqqx-ue",
        "outputId": "5e1506ff-86d6-47a5-c676-a31e82830b7d"
      },
      "execution_count": null,
      "outputs": [
        {
          "output_type": "stream",
          "name": "stdout",
          "text": [
            "('Name', 'sumit')\n",
            "('age', 24)\n",
            "('edu', 'B.Tech')\n",
            "('loc', 'Pune')\n"
          ]
        }
      ]
    },
    {
      "cell_type": "code",
      "source": [
        "for key , value in dict.items():\n",
        "  print('key:', key)\n",
        "  print('value',value)"
      ],
      "metadata": {
        "colab": {
          "base_uri": "https://localhost:8080/"
        },
        "id": "43U5BhYlyHHp",
        "outputId": "6ba125f2-6ed5-4cac-957f-b3e5086047e9"
      },
      "execution_count": null,
      "outputs": [
        {
          "output_type": "stream",
          "name": "stdout",
          "text": [
            "key: Name\n",
            "value sumit\n",
            "key: age\n",
            "value 24\n",
            "key: edu\n",
            "value B.Tech\n",
            "key: loc\n",
            "value Pune\n"
          ]
        }
      ]
    },
    {
      "cell_type": "code",
      "source": [
        "for key  in dict.keys():\n",
        "  print('key:', key)"
      ],
      "metadata": {
        "colab": {
          "base_uri": "https://localhost:8080/"
        },
        "id": "rhB_U21TySvx",
        "outputId": "e8bbedb4-4270-4f97-d062-c307b38f85ba"
      },
      "execution_count": null,
      "outputs": [
        {
          "output_type": "stream",
          "name": "stdout",
          "text": [
            "key: Name\n",
            "key: age\n",
            "key: edu\n",
            "key: loc\n"
          ]
        }
      ]
    },
    {
      "cell_type": "code",
      "source": [
        "for bugspotter  in dict.values():  # we can use any name to iterating element\n",
        "  print('values:', bugspotter)"
      ],
      "metadata": {
        "colab": {
          "base_uri": "https://localhost:8080/"
        },
        "id": "Pm3IeEB2y9tJ",
        "outputId": "85faa988-d8ab-4e05-bc3f-77d1bc40ed1f"
      },
      "execution_count": null,
      "outputs": [
        {
          "output_type": "stream",
          "name": "stdout",
          "text": [
            "values: sumit\n",
            "values: 24\n",
            "values: B.Tech\n",
            "values: Pune\n"
          ]
        }
      ]
    },
    {
      "cell_type": "code",
      "source": [
        "# dict =                 {'Name': 'sumit',\n",
        "#                         'age': 24,\n",
        "#                         'edu': 'B.Tech',\n",
        "#                         'loc': 'Pune'\n",
        "#                         }"
      ],
      "metadata": {
        "id": "MEs6T8TNzD00"
      },
      "execution_count": null,
      "outputs": []
    },
    {
      "cell_type": "code",
      "source": [
        "for key , value in dict.items():\n",
        "\n",
        "  print(f'iterating key:{key} & value: {value}')\n",
        "\n",
        "  if (key == 'age' and value >= 20) or (key == 'loc' and value == 'Pune'):\n",
        "\n",
        "      print('applicable for addmition')\n",
        "\n",
        "  else:\n",
        "\n",
        "     print('not applicable')"
      ],
      "metadata": {
        "colab": {
          "base_uri": "https://localhost:8080/"
        },
        "id": "xQuidIPyzoDJ",
        "outputId": "399b0a7e-7498-4e48-e52d-2ebc3be424e4"
      },
      "execution_count": null,
      "outputs": [
        {
          "output_type": "stream",
          "name": "stdout",
          "text": [
            "iterating key:Name & value: sumit\n",
            "not applicable\n",
            "iterating key:age & value: 24\n",
            "applicable for addmition\n",
            "iterating key:edu & value: B.Tech\n",
            "not applicable\n",
            "iterating key:loc & value: Pune\n",
            "applicable for addmition\n"
          ]
        }
      ]
    },
    {
      "cell_type": "code",
      "source": [
        "# Q. if key is age then print as considered"
      ],
      "metadata": {
        "id": "24yhviPh0Rls"
      },
      "execution_count": null,
      "outputs": []
    },
    {
      "cell_type": "code",
      "source": [
        "# Q. if value is 24 then print as age considered"
      ],
      "metadata": {
        "id": "_kfcYGZQ2t5W"
      },
      "execution_count": null,
      "outputs": []
    },
    {
      "cell_type": "code",
      "source": [
        "dict = {'name' :['ashish', 'sameer', 'lokesh', 'sagar'],\n",
        "        'age' : [ 91 ,71,81,21 ],\n",
        "        'edu':  ['B.E', 'M.TECH', 'BCA', 'MBA']}\n"
      ],
      "metadata": {
        "id": "9f5Lhz5CE61P"
      },
      "execution_count": null,
      "outputs": []
    },
    {
      "cell_type": "code",
      "source": [
        "dict.keys()"
      ],
      "metadata": {
        "colab": {
          "base_uri": "https://localhost:8080/"
        },
        "id": "fvEJ_P6RFX83",
        "outputId": "3174c96e-d2ff-48d2-9bb2-91741cfccd2f"
      },
      "execution_count": null,
      "outputs": [
        {
          "output_type": "execute_result",
          "data": {
            "text/plain": [
              "dict_keys(['name', 'age', 'edu'])"
            ]
          },
          "metadata": {},
          "execution_count": 12
        }
      ]
    },
    {
      "cell_type": "code",
      "source": [
        "dict.values()"
      ],
      "metadata": {
        "colab": {
          "base_uri": "https://localhost:8080/"
        },
        "id": "quEdkWkhFbfP",
        "outputId": "e8eed1a7-a313-4c32-b154-b0d98b2c1d86"
      },
      "execution_count": null,
      "outputs": [
        {
          "output_type": "execute_result",
          "data": {
            "text/plain": [
              "dict_values([['ashish', 'sameer', 'lokesh', 'sagar'], [91, 71, 81, 21], ['B.E', 'M.TECH', 'BCA', 'MBA']])"
            ]
          },
          "metadata": {},
          "execution_count": 13
        }
      ]
    },
    {
      "cell_type": "code",
      "source": [
        "dict['name'].append('riya')\n",
        "dict"
      ],
      "metadata": {
        "colab": {
          "base_uri": "https://localhost:8080/"
        },
        "id": "Sf96aXzKFdZ8",
        "outputId": "115f89d2-257d-4d70-9311-e16a79cfdac7"
      },
      "execution_count": null,
      "outputs": [
        {
          "output_type": "execute_result",
          "data": {
            "text/plain": [
              "{'name': ['ashish', 'sameer', 'lokesh', 'sagar', 'riya'],\n",
              " 'age': [91, 71, 81, 21],\n",
              " 'edu': ['B.E', 'M.TECH', 'BCA', 'MBA']}"
            ]
          },
          "metadata": {},
          "execution_count": 14
        }
      ]
    },
    {
      "cell_type": "code",
      "source": [
        "dict['name'].extend(['sujit', 'amar'])\n",
        "dict"
      ],
      "metadata": {
        "colab": {
          "base_uri": "https://localhost:8080/"
        },
        "id": "JxjurZp9FuhM",
        "outputId": "e25645bd-0428-441d-ae0a-13dad55b973e"
      },
      "execution_count": null,
      "outputs": [
        {
          "output_type": "execute_result",
          "data": {
            "text/plain": [
              "{'name': ['ashish', 'sameer', 'lokesh', 'sagar', 'riya', 'sujit', 'amar'],\n",
              " 'age': [91, 71, 81, 21],\n",
              " 'edu': ['B.E', 'M.TECH', 'BCA', 'MBA']}"
            ]
          },
          "metadata": {},
          "execution_count": 15
        }
      ]
    },
    {
      "cell_type": "code",
      "source": [
        "dict['age'].insert(0,21)\n",
        "dict"
      ],
      "metadata": {
        "colab": {
          "base_uri": "https://localhost:8080/"
        },
        "id": "s6JpabsKF4JO",
        "outputId": "06d2bc96-f68b-47d2-bd76-3a3c3f061060"
      },
      "execution_count": null,
      "outputs": [
        {
          "output_type": "execute_result",
          "data": {
            "text/plain": [
              "{'name': ['ashish', 'sameer', 'lokesh', 'sagar', 'riya', 'sujit', 'amar'],\n",
              " 'age': [21, 91, 71, 81, 21],\n",
              " 'edu': ['B.E', 'M.TECH', 'BCA', 'MBA']}"
            ]
          },
          "metadata": {},
          "execution_count": 16
        }
      ]
    },
    {
      "cell_type": "code",
      "source": [
        "dict['edu'] = 'BA'"
      ],
      "metadata": {
        "id": "Pj0pfVVHGHnQ"
      },
      "execution_count": null,
      "outputs": []
    },
    {
      "cell_type": "code",
      "source": [
        "dict"
      ],
      "metadata": {
        "colab": {
          "base_uri": "https://localhost:8080/"
        },
        "id": "vFBWzZBuGS0i",
        "outputId": "4fa3ecd1-7d6c-4477-d402-ee46d0062b7e"
      },
      "execution_count": null,
      "outputs": [
        {
          "output_type": "execute_result",
          "data": {
            "text/plain": [
              "{'name': ['ashish', 'sameer', 'lokesh', 'sagar', 'riya', 'sujit', 'amar'],\n",
              " 'age': [21, 91, 71, 81, 21],\n",
              " 'edu': 'BA'}"
            ]
          },
          "metadata": {},
          "execution_count": 18
        }
      ]
    },
    {
      "cell_type": "code",
      "source": [
        "dict"
      ],
      "metadata": {
        "id": "QwHzWvlzGT93"
      },
      "execution_count": null,
      "outputs": []
    },
    {
      "cell_type": "code",
      "source": [
        "dict['edu'] = ['B.E', 'M.TECH', 'BCA', 'MBA']\n",
        "dict"
      ],
      "metadata": {
        "colab": {
          "base_uri": "https://localhost:8080/"
        },
        "id": "GwRpoiR1Ge2P",
        "outputId": "fe411ef1-9740-4eb4-a85f-970da0d1ef9c"
      },
      "execution_count": null,
      "outputs": [
        {
          "output_type": "execute_result",
          "data": {
            "text/plain": [
              "{'name': ['ashish', 'sameer', 'lokesh', 'sagar', 'riya', 'sujit', 'amar'],\n",
              " 'age': [21, 91, 71, 81, 21],\n",
              " 'edu': ['B.E', 'M.TECH', 'BCA', 'MBA']}"
            ]
          },
          "metadata": {},
          "execution_count": 19
        }
      ]
    },
    {
      "cell_type": "code",
      "source": [
        "dict['edu'][0] = 'B.A'\n",
        "dict"
      ],
      "metadata": {
        "colab": {
          "base_uri": "https://localhost:8080/"
        },
        "id": "67xEngBlGpGH",
        "outputId": "5cc6b0c8-ac0d-4fb4-959d-8715da2f9de1"
      },
      "execution_count": null,
      "outputs": [
        {
          "output_type": "execute_result",
          "data": {
            "text/plain": [
              "{'name': ['ashish', 'sameer', 'lokesh', 'sagar', 'riya', 'sujit', 'amar'],\n",
              " 'age': [21, 91, 71, 81, 21],\n",
              " 'edu': ['B.A', 'M.TECH', 'BCA', 'MBA']}"
            ]
          },
          "metadata": {},
          "execution_count": 20
        }
      ]
    },
    {
      "cell_type": "code",
      "source": [
        "dict['edu'][3] = 'B.E'\n",
        "dict"
      ],
      "metadata": {
        "colab": {
          "base_uri": "https://localhost:8080/"
        },
        "id": "YYtZa6DDGxge",
        "outputId": "e3b67918-9648-49fb-a93a-2950b0be575f"
      },
      "execution_count": null,
      "outputs": [
        {
          "output_type": "execute_result",
          "data": {
            "text/plain": [
              "{'name': ['ashish', 'sameer', 'lokesh', 'sagar', 'riya', 'sujit', 'amar'],\n",
              " 'age': [21, 91, 71, 81, 21],\n",
              " 'edu': ['B.A', 'M.TECH', 'BCA', 'B.E']}"
            ]
          },
          "metadata": {},
          "execution_count": 21
        }
      ]
    },
    {
      "cell_type": "markdown",
      "source": [
        "# String"
      ],
      "metadata": {
        "id": "gwkB0nV6G9ny"
      }
    },
    {
      "cell_type": "code",
      "source": [
        "str = 'Hello'\n",
        "# or\n",
        "str = \"Hello\"\n",
        "str"
      ],
      "metadata": {
        "colab": {
          "base_uri": "https://localhost:8080/",
          "height": 35
        },
        "id": "97hSV1rIG2cT",
        "outputId": "e67de3ab-75d8-43e8-de50-8813d31d7ae7"
      },
      "execution_count": null,
      "outputs": [
        {
          "output_type": "execute_result",
          "data": {
            "text/plain": [
              "'Hello'"
            ],
            "application/vnd.google.colaboratory.intrinsic+json": {
              "type": "string"
            }
          },
          "metadata": {},
          "execution_count": 22
        }
      ]
    },
    {
      "cell_type": "code",
      "source": [
        "len(str)"
      ],
      "metadata": {
        "colab": {
          "base_uri": "https://localhost:8080/"
        },
        "id": "y-ke6MwLHPnx",
        "outputId": "bf4dcae8-cfbc-41f8-acff-4412507dcdd6"
      },
      "execution_count": null,
      "outputs": [
        {
          "output_type": "execute_result",
          "data": {
            "text/plain": [
              "5"
            ]
          },
          "metadata": {},
          "execution_count": 23
        }
      ]
    },
    {
      "cell_type": "code",
      "source": [
        "str.upper()"
      ],
      "metadata": {
        "colab": {
          "base_uri": "https://localhost:8080/",
          "height": 35
        },
        "id": "zJos6dI-HWaf",
        "outputId": "92e8f10e-1d2c-4724-a171-e54e382a9c66"
      },
      "execution_count": null,
      "outputs": [
        {
          "output_type": "execute_result",
          "data": {
            "text/plain": [
              "'HELLO'"
            ],
            "application/vnd.google.colaboratory.intrinsic+json": {
              "type": "string"
            }
          },
          "metadata": {},
          "execution_count": 24
        }
      ]
    },
    {
      "cell_type": "code",
      "source": [
        "str.lower()"
      ],
      "metadata": {
        "colab": {
          "base_uri": "https://localhost:8080/",
          "height": 35
        },
        "id": "tXYCE31VHaRs",
        "outputId": "3ba53fc4-f823-4a82-b4e7-b72a79a6164c"
      },
      "execution_count": null,
      "outputs": [
        {
          "output_type": "execute_result",
          "data": {
            "text/plain": [
              "'hello'"
            ],
            "application/vnd.google.colaboratory.intrinsic+json": {
              "type": "string"
            }
          },
          "metadata": {},
          "execution_count": 25
        }
      ]
    },
    {
      "cell_type": "code",
      "source": [
        "str = '  hello python '\n",
        "str = str.strip()\n",
        "str"
      ],
      "metadata": {
        "colab": {
          "base_uri": "https://localhost:8080/",
          "height": 35
        },
        "id": "XJhRf3UzHctF",
        "outputId": "5d19e2d0-0767-42b8-d6bb-edab7303fd14"
      },
      "execution_count": null,
      "outputs": [
        {
          "output_type": "execute_result",
          "data": {
            "text/plain": [
              "'hello python'"
            ],
            "application/vnd.google.colaboratory.intrinsic+json": {
              "type": "string"
            }
          },
          "metadata": {},
          "execution_count": 28
        }
      ]
    },
    {
      "cell_type": "code",
      "source": [
        "str.replace(' ','-')"
      ],
      "metadata": {
        "colab": {
          "base_uri": "https://localhost:8080/",
          "height": 35
        },
        "id": "pdeGPm4NHj5k",
        "outputId": "c834b373-2ac7-47e1-f296-862ccc4cfab1"
      },
      "execution_count": null,
      "outputs": [
        {
          "output_type": "execute_result",
          "data": {
            "text/plain": [
              "'hello-python'"
            ],
            "application/vnd.google.colaboratory.intrinsic+json": {
              "type": "string"
            }
          },
          "metadata": {},
          "execution_count": 29
        }
      ]
    },
    {
      "cell_type": "code",
      "source": [
        "str = 'hello-python'\n",
        "str2 = str.replace('-','')\n",
        "print(str2)"
      ],
      "metadata": {
        "colab": {
          "base_uri": "https://localhost:8080/"
        },
        "id": "x2x2BAKPH0PX",
        "outputId": "d98a4998-e227-4405-e601-0dad56cfcd62"
      },
      "execution_count": null,
      "outputs": [
        {
          "output_type": "stream",
          "name": "stdout",
          "text": [
            "hellopython\n"
          ]
        }
      ]
    },
    {
      "cell_type": "code",
      "source": [
        "str"
      ],
      "metadata": {
        "colab": {
          "base_uri": "https://localhost:8080/",
          "height": 35
        },
        "id": "GH1o7hV-H4kF",
        "outputId": "458d037d-7b6b-4b3c-d187-e135695a7074"
      },
      "execution_count": null,
      "outputs": [
        {
          "output_type": "execute_result",
          "data": {
            "text/plain": [
              "'hello-python'"
            ],
            "application/vnd.google.colaboratory.intrinsic+json": {
              "type": "string"
            }
          },
          "metadata": {},
          "execution_count": 2
        }
      ]
    },
    {
      "cell_type": "code",
      "source": [
        "str.find('l')  # it gives us the first occurance index"
      ],
      "metadata": {
        "colab": {
          "base_uri": "https://localhost:8080/"
        },
        "id": "ZR3VmyRgITku",
        "outputId": "49064762-e210-4cc3-8261-6ec7253a455e"
      },
      "execution_count": null,
      "outputs": [
        {
          "output_type": "execute_result",
          "data": {
            "text/plain": [
              "2"
            ]
          },
          "metadata": {},
          "execution_count": 5
        }
      ]
    },
    {
      "cell_type": "code",
      "source": [
        "str.startswith('aditya')"
      ],
      "metadata": {
        "colab": {
          "base_uri": "https://localhost:8080/"
        },
        "id": "Xf9T96zcItcX",
        "outputId": "6c4bbe4c-7b1e-4b4b-a86b-c647b7c3450b"
      },
      "execution_count": null,
      "outputs": [
        {
          "output_type": "execute_result",
          "data": {
            "text/plain": [
              "False"
            ]
          },
          "metadata": {},
          "execution_count": 6
        }
      ]
    },
    {
      "cell_type": "code",
      "source": [
        "str.startswith('he')"
      ],
      "metadata": {
        "colab": {
          "base_uri": "https://localhost:8080/"
        },
        "id": "uA2IKKg1JBaq",
        "outputId": "600db4b1-9568-4bdf-bef0-135e0607c7d6"
      },
      "execution_count": null,
      "outputs": [
        {
          "output_type": "execute_result",
          "data": {
            "text/plain": [
              "True"
            ]
          },
          "metadata": {},
          "execution_count": 8
        }
      ]
    },
    {
      "cell_type": "code",
      "source": [
        "str.endswith('on')"
      ],
      "metadata": {
        "colab": {
          "base_uri": "https://localhost:8080/"
        },
        "id": "i05RK4DHJDZF",
        "outputId": "f0088306-9cb7-49f2-9c76-bf913e10fd01"
      },
      "execution_count": null,
      "outputs": [
        {
          "output_type": "execute_result",
          "data": {
            "text/plain": [
              "True"
            ]
          },
          "metadata": {},
          "execution_count": 9
        }
      ]
    },
    {
      "cell_type": "code",
      "source": [
        "str  = 'hello'\n",
        "l1 = str.split('')\n",
        "l1"
      ],
      "metadata": {
        "colab": {
          "base_uri": "https://localhost:8080/",
          "height": 176
        },
        "id": "mSbA0gIkKr_A",
        "outputId": "bf94e3f6-2eb2-4294-b801-f75f3cf1bf9d"
      },
      "execution_count": null,
      "outputs": [
        {
          "output_type": "error",
          "ename": "ValueError",
          "evalue": "empty separator",
          "traceback": [
            "\u001b[0;31m---------------------------------------------------------------------------\u001b[0m",
            "\u001b[0;31mValueError\u001b[0m                                Traceback (most recent call last)",
            "\u001b[0;32m/tmp/ipython-input-1008273853.py\u001b[0m in \u001b[0;36m<cell line: 0>\u001b[0;34m()\u001b[0m\n\u001b[1;32m      1\u001b[0m \u001b[0mstr\u001b[0m  \u001b[0;34m=\u001b[0m \u001b[0;34m'hello'\u001b[0m\u001b[0;34m\u001b[0m\u001b[0;34m\u001b[0m\u001b[0m\n\u001b[0;32m----> 2\u001b[0;31m \u001b[0ml1\u001b[0m \u001b[0;34m=\u001b[0m \u001b[0mstr\u001b[0m\u001b[0;34m.\u001b[0m\u001b[0msplit\u001b[0m\u001b[0;34m(\u001b[0m\u001b[0;34m''\u001b[0m\u001b[0;34m)\u001b[0m\u001b[0;34m\u001b[0m\u001b[0;34m\u001b[0m\u001b[0m\n\u001b[0m\u001b[1;32m      3\u001b[0m \u001b[0ml1\u001b[0m\u001b[0;34m\u001b[0m\u001b[0;34m\u001b[0m\u001b[0m\n",
            "\u001b[0;31mValueError\u001b[0m: empty separator"
          ]
        }
      ]
    },
    {
      "cell_type": "markdown",
      "source": [
        "with a separator when you want to break a string into parts based on a specific character or substring — not individual characters."
      ],
      "metadata": {
        "id": "mqmokw-1Knjt"
      }
    },
    {
      "cell_type": "code",
      "source": [
        "str  = 'hello my name is python '\n",
        "l1 = list(str)\n",
        "l1"
      ],
      "metadata": {
        "colab": {
          "base_uri": "https://localhost:8080/"
        },
        "id": "NX3lahj2KwzF",
        "outputId": "d5982e06-5cb0-41a0-ffa3-eb685a95656f"
      },
      "execution_count": null,
      "outputs": [
        {
          "output_type": "execute_result",
          "data": {
            "text/plain": [
              "['h',\n",
              " 'e',\n",
              " 'l',\n",
              " 'l',\n",
              " 'o',\n",
              " ' ',\n",
              " 'm',\n",
              " 'y',\n",
              " ' ',\n",
              " 'n',\n",
              " 'a',\n",
              " 'm',\n",
              " 'e',\n",
              " ' ',\n",
              " 'i',\n",
              " 's',\n",
              " ' ',\n",
              " 'p',\n",
              " 'y',\n",
              " 't',\n",
              " 'h',\n",
              " 'o',\n",
              " 'n',\n",
              " ' ']"
            ]
          },
          "metadata": {},
          "execution_count": 15
        }
      ]
    },
    {
      "cell_type": "code",
      "source": [
        "str  = 'hello my name is python '\n",
        "l1 = str.split(' ')\n",
        "print(type(l1))\n",
        "print(l1)"
      ],
      "metadata": {
        "colab": {
          "base_uri": "https://localhost:8080/"
        },
        "id": "UwienVkzKnPq",
        "outputId": "fe87ce74-898e-4398-94ab-25e42030e5b3"
      },
      "execution_count": null,
      "outputs": [
        {
          "output_type": "stream",
          "name": "stdout",
          "text": [
            "<class 'list'>\n",
            "['hello', 'my', 'name', 'is', 'python', '']\n"
          ]
        }
      ]
    },
    {
      "cell_type": "code",
      "source": [
        "str_2 = '-'.join(l1)\n",
        "print(type(str_2))\n",
        "print(str_2)"
      ],
      "metadata": {
        "colab": {
          "base_uri": "https://localhost:8080/"
        },
        "id": "8kP4l1IiJIbc",
        "outputId": "a354d1bd-daf7-4f64-d1f7-a1082c980a50"
      },
      "execution_count": null,
      "outputs": [
        {
          "output_type": "stream",
          "name": "stdout",
          "text": [
            "<class 'str'>\n",
            "hello-my-name-is-python-\n"
          ]
        }
      ]
    },
    {
      "cell_type": "code",
      "source": [
        "str = 'hello-python'\n",
        "\n",
        "check = list() # h e l\n",
        "print(type(check))\n",
        "print(check)\n",
        "\n",
        "\n",
        "for i in str :# h e l l\n",
        "  print('iterating ele:', i)\n",
        "  if i not in check:\n",
        "    check.append(i)\n",
        "  else:\n",
        "    print(f'{i}:its a repeating element')\n",
        "\n",
        "print(check)"
      ],
      "metadata": {
        "colab": {
          "base_uri": "https://localhost:8080/"
        },
        "id": "Ufa79S2AJX70",
        "outputId": "019a3dcf-6c89-40d1-eea5-b82a07af60cd"
      },
      "execution_count": null,
      "outputs": [
        {
          "output_type": "stream",
          "name": "stdout",
          "text": [
            "<class 'list'>\n",
            "[]\n",
            "iterating ele: h\n",
            "iterating ele: e\n",
            "iterating ele: l\n",
            "iterating ele: l\n",
            "l:its a repeating element\n",
            "iterating ele: o\n",
            "iterating ele: -\n",
            "iterating ele: p\n",
            "iterating ele: y\n",
            "iterating ele: t\n",
            "iterating ele: h\n",
            "h:its a repeating element\n",
            "iterating ele: o\n",
            "o:its a repeating element\n",
            "iterating ele: n\n",
            "['h', 'e', 'l', 'o', '-', 'p', 'y', 't', 'n']\n"
          ]
        }
      ]
    },
    {
      "cell_type": "code",
      "source": [
        "# reverse the str : str = 'hello'"
      ],
      "metadata": {
        "id": "crM2gsdKKVBv"
      },
      "execution_count": null,
      "outputs": []
    },
    {
      "cell_type": "code",
      "source": [
        "s = 'hello'\n",
        "s1 = '' # eh -> leh\n",
        "\n",
        "for i in s : # h e l l o\n",
        "  s1 = i+s1 # eh --> l +eh --> l+leh--> o+lleh --->olleh\n",
        "\n",
        "print(s1)"
      ],
      "metadata": {
        "colab": {
          "base_uri": "https://localhost:8080/"
        },
        "id": "GEVhv9hIc_gg",
        "outputId": "9899c6f2-28aa-46ee-b731-72b0240c18dd"
      },
      "execution_count": null,
      "outputs": [
        {
          "output_type": "stream",
          "name": "stdout",
          "text": [
            "olleh\n"
          ]
        }
      ]
    },
    {
      "cell_type": "code",
      "source": [
        "# slicing"
      ],
      "metadata": {
        "id": "tDfFbPoXc_d5"
      },
      "execution_count": null,
      "outputs": []
    },
    {
      "cell_type": "code",
      "source": [
        "s = 'Hello_python'\n",
        "\n",
        "# [start: stop: step ]"
      ],
      "metadata": {
        "id": "v0J9YFdVc_bB"
      },
      "execution_count": null,
      "outputs": []
    },
    {
      "cell_type": "code",
      "source": [
        "print(s[0:3])"
      ],
      "metadata": {
        "colab": {
          "base_uri": "https://localhost:8080/"
        },
        "id": "QBi2zmfmc_Yb",
        "outputId": "500d7f18-ea46-44e2-dc4a-b0e59b9cac74"
      },
      "execution_count": null,
      "outputs": [
        {
          "output_type": "stream",
          "name": "stdout",
          "text": [
            "Hel\n"
          ]
        }
      ]
    },
    {
      "cell_type": "code",
      "source": [
        "print(s[4:])"
      ],
      "metadata": {
        "colab": {
          "base_uri": "https://localhost:8080/"
        },
        "id": "L0ZcABAhNtms",
        "outputId": "024343e4-65cf-4c71-ce43-00f5119a5b72"
      },
      "execution_count": null,
      "outputs": [
        {
          "output_type": "stream",
          "name": "stdout",
          "text": [
            "o_python\n"
          ]
        }
      ]
    },
    {
      "cell_type": "code",
      "source": [
        "print(s[:4])"
      ],
      "metadata": {
        "colab": {
          "base_uri": "https://localhost:8080/"
        },
        "id": "SgwL_W45eae0",
        "outputId": "41fc16f6-869c-40e8-d4a4-e4a74abb6a49"
      },
      "execution_count": null,
      "outputs": [
        {
          "output_type": "stream",
          "name": "stdout",
          "text": [
            "Hell\n"
          ]
        }
      ]
    },
    {
      "cell_type": "code",
      "source": [
        "print(s[0:5:2])"
      ],
      "metadata": {
        "colab": {
          "base_uri": "https://localhost:8080/"
        },
        "id": "YrzxUZFMesA-",
        "outputId": "01199092-4ac1-42b9-ed26-598eaa545565"
      },
      "execution_count": null,
      "outputs": [
        {
          "output_type": "stream",
          "name": "stdout",
          "text": [
            "Hlo\n"
          ]
        }
      ]
    },
    {
      "cell_type": "code",
      "source": [
        "s"
      ],
      "metadata": {
        "colab": {
          "base_uri": "https://localhost:8080/",
          "height": 35
        },
        "id": "xUP7kF90fDZZ",
        "outputId": "096030d1-c4b6-4cca-9f79-b49a7ef24a21"
      },
      "execution_count": null,
      "outputs": [
        {
          "output_type": "execute_result",
          "data": {
            "text/plain": [
              "'Hello_python'"
            ],
            "application/vnd.google.colaboratory.intrinsic+json": {
              "type": "string"
            }
          },
          "metadata": {},
          "execution_count": 13
        }
      ]
    },
    {
      "cell_type": "code",
      "source": [
        "print(s[10:1:1])"
      ],
      "metadata": {
        "colab": {
          "base_uri": "https://localhost:8080/"
        },
        "id": "vLJ49gDQezOm",
        "outputId": "1f2a32b7-a21b-4898-c481-4017763cf157"
      },
      "execution_count": null,
      "outputs": [
        {
          "output_type": "stream",
          "name": "stdout",
          "text": [
            "\n"
          ]
        }
      ]
    },
    {
      "cell_type": "code",
      "source": [
        "# -5 -4 -3 -2 -1 0 1 2 3 4 5 6 7 8 9 10 ---> 1"
      ],
      "metadata": {
        "id": "H0QAUaM9fMcd"
      },
      "execution_count": null,
      "outputs": []
    },
    {
      "cell_type": "code",
      "source": [
        "print(s[10:1:-1])"
      ],
      "metadata": {
        "colab": {
          "base_uri": "https://localhost:8080/"
        },
        "id": "eapVOUSZmvLn",
        "outputId": "2ac093d9-6f3c-4460-f229-d166d338acc0"
      },
      "execution_count": null,
      "outputs": [
        {
          "output_type": "stream",
          "name": "stdout",
          "text": [
            "ohtyp_oll\n"
          ]
        }
      ]
    },
    {
      "cell_type": "code",
      "source": [
        "print(s[::-1])"
      ],
      "metadata": {
        "colab": {
          "base_uri": "https://localhost:8080/"
        },
        "id": "_XL5OVMHmzIn",
        "outputId": "75c5439a-0bd9-4afe-c8eb-bf108e8e441b"
      },
      "execution_count": null,
      "outputs": [
        {
          "output_type": "stream",
          "name": "stdout",
          "text": [
            "nohtyp_olleH\n"
          ]
        }
      ]
    },
    {
      "cell_type": "markdown",
      "source": [
        "# Interview Questions"
      ],
      "metadata": {
        "id": "Ax5naqlnnLFD"
      }
    },
    {
      "cell_type": "code",
      "source": [
        "str = \"remove all spaces from  string \"\n",
        "str2 = ''\n",
        "\n",
        "for i in str : # r e\n",
        "\n",
        "  if i != ' ':\n",
        "    str2 = str2+ i # r --> r+ e --> re -> rem --> remo\n",
        "\n",
        "\n",
        "print(str2)"
      ],
      "metadata": {
        "colab": {
          "base_uri": "https://localhost:8080/"
        },
        "id": "jHd0zfwMm2gd",
        "outputId": "9f125e7d-98fb-4bd7-aed0-7b922c9f7e1f"
      },
      "execution_count": null,
      "outputs": [
        {
          "output_type": "stream",
          "name": "stdout",
          "text": [
            "removeallspacesfromstring\n"
          ]
        }
      ]
    },
    {
      "cell_type": "code",
      "source": [
        "\n",
        "# add - instead of space\n",
        "str = \"remove all spaces from  string \"\n",
        "str2 = ''\n",
        "rep = '-'\n",
        "\n",
        "\n",
        "# replace(str,' ','-') : we can easily use replace but its a inbuit function so we cant use this in interview\n",
        "\n",
        "for i in str : # r e\n",
        "  if i == ' ':\n",
        "    str2 = str2 + rep  # remove + '-' --> remove-\n",
        "  else:\n",
        "    str2 = str2 + i # remove .....>\n",
        "\n",
        "\n",
        "print(str2)\n",
        "\n",
        "# or\n",
        "# replace\n",
        "\n",
        "\n",
        "\n"
      ],
      "metadata": {
        "colab": {
          "base_uri": "https://localhost:8080/"
        },
        "id": "E9t8Cxsgn6TE",
        "outputId": "e30009a1-4eb2-4c7d-84ae-dbef1778cb65"
      },
      "execution_count": null,
      "outputs": [
        {
          "output_type": "stream",
          "name": "stdout",
          "text": [
            "remove all spaces from  string \n"
          ]
        }
      ]
    },
    {
      "cell_type": "code",
      "source": [
        "# count the repeating elements\n",
        "\n",
        "str = 'hhhannnnshes'\n",
        "# h : 4 a : 1 n :3\n",
        "\n",
        "ele_count = {}\n",
        "\n",
        "for i in str : # h h h a n\n",
        "  if i in ele_count:\n",
        "    ele_count[i] += 1 #{h :3} --> {h: 3 , a:1,n :4 }\n",
        "  else:\n",
        "    ele_count[i] = 1 # {h: 3 , a:1,n :1 }\n",
        "\n",
        "\n",
        "ele_count"
      ],
      "metadata": {
        "colab": {
          "base_uri": "https://localhost:8080/"
        },
        "id": "bO4XBVqgp6vA",
        "outputId": "40a8cb9e-82b0-4d32-f5d0-564ddcc79910"
      },
      "execution_count": null,
      "outputs": [
        {
          "output_type": "execute_result",
          "data": {
            "text/plain": [
              "{'h': 4, 'a': 1, 'n': 4, 's': 2, 'e': 1}"
            ]
          },
          "metadata": {},
          "execution_count": 23
        }
      ]
    },
    {
      "cell_type": "code",
      "source": [
        "str = 'hello python'\n",
        "\n",
        "count = 0\n",
        "\n",
        "for i in str :\n",
        "  if i in 'aeiou':\n",
        "    count += 1\n",
        "    # count = count + 1\n",
        "\n",
        "print(count)\n",
        "\n",
        "# also get count of consonents"
      ],
      "metadata": {
        "colab": {
          "base_uri": "https://localhost:8080/"
        },
        "id": "MBCCvQSYsYxn",
        "outputId": "4d45a91e-2b52-4c4b-d963-2dd03ad99000"
      },
      "execution_count": null,
      "outputs": [
        {
          "output_type": "stream",
          "name": "stdout",
          "text": [
            "3\n"
          ]
        }
      ]
    },
    {
      "cell_type": "markdown",
      "source": [
        "list"
      ],
      "metadata": {
        "id": "1xpy3USyuU1o"
      }
    },
    {
      "cell_type": "code",
      "source": [
        "# reverse a list\n",
        "l1  = [1,3,5,7,1,3,6]\n",
        "\n",
        "print(l1[::-1])\n",
        "\n",
        "\n",
        "l2 = []\n",
        "\n",
        "# or\n",
        "\n",
        "for i in l1 : # 1 3 5 ....\n",
        "  l2.insert(0,i) # 531\n",
        "\n",
        "print(l2)\n",
        "\n",
        "\n",
        "\n",
        "\n"
      ],
      "metadata": {
        "colab": {
          "base_uri": "https://localhost:8080/"
        },
        "id": "CruEy2qytVdA",
        "outputId": "b557aa2e-f03a-42b6-fd2f-bd58cb323b5c"
      },
      "execution_count": null,
      "outputs": [
        {
          "output_type": "stream",
          "name": "stdout",
          "text": [
            "[6, 3, 1, 7, 5, 3, 1]\n",
            "[6, 3, 1, 7, 5, 3, 1]\n"
          ]
        }
      ]
    },
    {
      "cell_type": "code",
      "source": [
        "l1 = [1,3,4,5]\n",
        "print(type(l1))\n",
        "\n",
        "t1 = tuple(l1)\n",
        "print(type(t1))\n",
        "\n",
        "#  try other coversions"
      ],
      "metadata": {
        "colab": {
          "base_uri": "https://localhost:8080/"
        },
        "id": "7KM9abipugCP",
        "outputId": "be755c74-48ca-45c9-8e06-4787dd9c5ae6"
      },
      "execution_count": null,
      "outputs": [
        {
          "output_type": "stream",
          "name": "stdout",
          "text": [
            "<class 'list'>\n",
            "<class 'tuple'>\n"
          ]
        }
      ]
    },
    {
      "cell_type": "code",
      "source": [
        "# count of each element\n",
        "l1 = [34,34,51,21,21,21,41,21]\n"
      ],
      "metadata": {
        "id": "coTDyR2wvqB_"
      },
      "execution_count": null,
      "outputs": []
    },
    {
      "cell_type": "code",
      "source": [
        "# find max min  second max and second min\n",
        "\n",
        "l1 = [34,34,51,21,21,21,41,21]\n",
        "\n",
        "max = l1[0] # 34--> 51\n",
        "min = l1[0] # 34 --> 21\n",
        "\n",
        "for i in l1 :  # 34 34 51 21 21 21 41 21\n",
        "\n",
        "  if i > max:\n",
        "    max = i\n",
        "\n",
        "  if i < min:\n",
        "    min = i\n",
        "\n",
        "print(max)\n",
        "print(min)"
      ],
      "metadata": {
        "colab": {
          "base_uri": "https://localhost:8080/"
        },
        "id": "P6OQ_sctwJ8P",
        "outputId": "97e42991-c40a-4d1e-e53b-5fbb73cfa5c9"
      },
      "execution_count": null,
      "outputs": [
        {
          "output_type": "stream",
          "name": "stdout",
          "text": [
            "51\n",
            "21\n"
          ]
        }
      ]
    },
    {
      "cell_type": "code",
      "source": [
        "# find max min  second max and second min\n",
        "\n",
        "# l1 = [34,34,51,21,21,21,41,21]\n",
        "l1 = [21,1,4,50,12]\n",
        "\n",
        "max = l1[0] # 34\n",
        "min = l1[0] # 34\n",
        "second_max = l1[0] # 34\n",
        "second_min = l1[0] # 34\n",
        "\n",
        "\n",
        "for i in l1 :  # 34  34  51  21 21 21  41 21\n",
        "\n",
        "  if i > max:  #: 34 > 34 : 51 > 34 : 41 > 51\n",
        "    second_max = max  #: 34 -> 34\n",
        "    max = i #: 34 -> 54\n",
        "  elif i > second_max and i!= max :  #  41 > 34 and 41!= 54--> T\n",
        "    second_max = i # 34 -> 41\n",
        "\n",
        "\n",
        "\n",
        "\n",
        "\n",
        "print(max)\n",
        "print(second_max)"
      ],
      "metadata": {
        "colab": {
          "base_uri": "https://localhost:8080/"
        },
        "id": "wqnfiDG8wVrR",
        "outputId": "72d7c79c-f1e7-4f4d-be8b-7462a93cf596"
      },
      "execution_count": null,
      "outputs": [
        {
          "output_type": "stream",
          "name": "stdout",
          "text": [
            "51\n",
            "41\n"
          ]
        }
      ]
    },
    {
      "cell_type": "code",
      "source": [
        "# find max min  second max and second min\n",
        "\n",
        "\n",
        "l1 = [21,1,4,50,100,12]\n",
        "\n",
        "max = l1[0] # 21\n",
        "min = l1[0] #21\n",
        "# second_max = l1[0]\n",
        "# second_min = l1[0]\n",
        "\n",
        "\n",
        "for i in l1 : # 21\n",
        "\n",
        "  if i > max:  #: 21 > 21 : 1 > 21. 50 > 21  : 100> 50 :\n",
        "    second_max = max  #: 21 --> 21 --> 21--->50\n",
        "    max = i # 21--> 50---> 100\n",
        "  elif i > second_max and i!= max :  # 21> 21 and 21!= 21 :  1> 21 :\n",
        "    second_max = i #\n",
        "\n",
        "\n",
        "\n",
        "\n",
        "\n",
        "print(max)\n",
        "print(second_max)"
      ],
      "metadata": {
        "colab": {
          "base_uri": "https://localhost:8080/"
        },
        "id": "y9qQjVC4xOQh",
        "outputId": "42879dd8-9a7f-4bf8-ded5-738a7aff9cf2"
      },
      "execution_count": null,
      "outputs": [
        {
          "output_type": "stream",
          "name": "stdout",
          "text": [
            "100\n",
            "50\n"
          ]
        }
      ]
    },
    {
      "cell_type": "code",
      "source": [
        "# find max min  second max and second min\n",
        "\n",
        "\n",
        "l1 = [21,1,4,50,100,12]\n",
        "\n",
        "\n",
        "min = l1[0] # 21\n",
        "second_min = l1[0]  # 21\n",
        "\n",
        "\n",
        "for i in l1 : # 21\n",
        "\n",
        "  if i < min:  # 21 < 21  : 1 < 21 : 4< 1\n",
        "    second_min = min  #21 --> 21\n",
        "    min = i  # 21 --> 1\n",
        "  elif i < second_min and i!= min : # 21 > 21  : 4 > 21 and 4 != 1\n",
        "    second_min = i #21 ---> 4\n",
        "\n",
        "print(min)\n",
        "print(second_min)\n",
        "\n",
        "\n"
      ],
      "metadata": {
        "colab": {
          "base_uri": "https://localhost:8080/"
        },
        "id": "9pvlH8gk0pmq",
        "outputId": "a78ad7fb-3b92-48b2-8de7-50afef3e1d23"
      },
      "execution_count": null,
      "outputs": [
        {
          "output_type": "stream",
          "name": "stdout",
          "text": [
            "1\n",
            "4\n"
          ]
        }
      ]
    },
    {
      "cell_type": "code",
      "source": [
        "# use the same questions for tuple\n",
        "# dict : refer the dict  questions  & same for set\n",
        "# Q . count of each element in dict  with keys and values"
      ],
      "metadata": {
        "id": "0zCTrhq-10gR"
      },
      "execution_count": null,
      "outputs": []
    },
    {
      "cell_type": "code",
      "source": [
        "# 5 --> 5*4*3*2*1\n",
        "\n",
        "num = int(input('Eneter a num:'))\n",
        "\n",
        "fact = 1 # 5\n",
        "\n",
        "while num > 0:  # 5> 0  : 4 > 0 : 3 >0 2>0  1> 0  0> 0\n",
        "\n",
        "  fact = fact * num  # 5* 1--> 5 --> 5 * 4-->20 * 3 --> 60 * 2 --> 120 *1 --> 120\n",
        "  num = num - 1 # 5 - 1 --> 4 -1 --> 3 -1 --> 2 -1 --> 1 -1 --> 0\n",
        "\n",
        "\n",
        "print(fact)"
      ],
      "metadata": {
        "colab": {
          "base_uri": "https://localhost:8080/"
        },
        "id": "DlIKpWOp27KD",
        "outputId": "269c83dd-b2a5-44a7-ee91-b9676d6f5251"
      },
      "execution_count": null,
      "outputs": [
        {
          "output_type": "stream",
          "name": "stdout",
          "text": [
            "Eneter a num:5\n",
            "120\n"
          ]
        }
      ]
    },
    {
      "cell_type": "code",
      "source": [
        "l1 = [1 , 2, [1 , [ 3 , 4 ], 6 ], 0]\n",
        "\n",
        "#    |------------------------------|\n",
        "    # 0   1          2            3\n",
        "\n",
        "#           |------------------|\n",
        "#             0       1       2\n",
        "\n",
        "#                 |----|\n",
        "#                  0   1\n",
        "\n"
      ],
      "metadata": {
        "id": "l4wJjb8E3jV-"
      },
      "execution_count": null,
      "outputs": []
    },
    {
      "cell_type": "code",
      "source": [
        "l1[1]"
      ],
      "metadata": {
        "colab": {
          "base_uri": "https://localhost:8080/"
        },
        "id": "KDro8Tq75Tr0",
        "outputId": "df50ccf7-d256-4678-9910-057738a3fc58"
      },
      "execution_count": null,
      "outputs": [
        {
          "output_type": "execute_result",
          "data": {
            "text/plain": [
              "2"
            ]
          },
          "metadata": {},
          "execution_count": 10
        }
      ]
    },
    {
      "cell_type": "code",
      "source": [
        "l1[2][0]"
      ],
      "metadata": {
        "colab": {
          "base_uri": "https://localhost:8080/"
        },
        "id": "OrgaEsp26NSs",
        "outputId": "8b22c9bb-90bc-400f-f873-5e329e66fcd3"
      },
      "execution_count": null,
      "outputs": [
        {
          "output_type": "execute_result",
          "data": {
            "text/plain": [
              "1"
            ]
          },
          "metadata": {},
          "execution_count": 11
        }
      ]
    },
    {
      "cell_type": "code",
      "source": [
        "l1[2][1][0]"
      ],
      "metadata": {
        "colab": {
          "base_uri": "https://localhost:8080/"
        },
        "id": "Ovv4q34R6fNk",
        "outputId": "8a518b36-03d5-4e7c-ee34-be576dd99866"
      },
      "execution_count": null,
      "outputs": [
        {
          "output_type": "execute_result",
          "data": {
            "text/plain": [
              "3"
            ]
          },
          "metadata": {},
          "execution_count": 12
        }
      ]
    },
    {
      "cell_type": "code",
      "source": [
        "# prime num  : take input from user  check whether this num is prime or not\n",
        "# num devide by 1 or itself : hint -> range()"
      ],
      "metadata": {
        "id": "BdAQXpHl6rBl"
      },
      "execution_count": null,
      "outputs": []
    },
    {
      "cell_type": "code",
      "source": [
        "import copy\n",
        "\n",
        "# copy\n",
        "\n",
        "# shallow copy\n",
        "\n",
        "l1 = [[1,2,3], [4,5,6]]\n",
        "\n",
        "shallow_cpy_list = copy.copy(l1)\n",
        "\n",
        "print(shallow_cpy_list)\n",
        "print(l1)\n",
        "print('--------')\n",
        "\n",
        "shallow_cpy_list[0][0] = 100\n",
        "print(shallow_cpy_list)\n",
        "print(l1)\n"
      ],
      "metadata": {
        "colab": {
          "base_uri": "https://localhost:8080/"
        },
        "id": "3-YiRSHS7J-B",
        "outputId": "f67433b6-3a98-47da-e77c-d5a06629f2ab"
      },
      "execution_count": null,
      "outputs": [
        {
          "output_type": "stream",
          "name": "stdout",
          "text": [
            "[[1, 2, 3], [4, 5, 6]]\n",
            "[[1, 2, 3], [4, 5, 6]]\n",
            "--------\n",
            "[[100, 2, 3], [4, 5, 6]]\n",
            "[[100, 2, 3], [4, 5, 6]]\n"
          ]
        }
      ]
    },
    {
      "cell_type": "code",
      "source": [
        "l1 = [[1,2,3], [4,5,6]]\n",
        "\n",
        "shallow_cpy_list = copy.copy(l1)\n",
        "shallow_cpy_list.insert(1,2)\n",
        "\n",
        "print(shallow_cpy_list)\n",
        "print(l1)\n",
        "\n",
        "# it wont work while insert , append extend"
      ],
      "metadata": {
        "colab": {
          "base_uri": "https://localhost:8080/"
        },
        "id": "fQAF5hb28zjW",
        "outputId": "458411a4-b3a8-4b36-eb08-0fa3f60422cd"
      },
      "execution_count": null,
      "outputs": [
        {
          "output_type": "stream",
          "name": "stdout",
          "text": [
            "[[1, 2, 3], 2, [4, 5, 6]]\n",
            "[[1, 2, 3], [4, 5, 6]]\n"
          ]
        }
      ]
    },
    {
      "cell_type": "code",
      "source": [
        "# deep copy\n",
        "\n",
        "l1 = [[1,2,3], [4,5,6]]\n",
        "\n",
        "deep_list = copy.deepcopy(l1)\n",
        "\n",
        "print(deep_list)\n",
        "print(l1)\n",
        "print('--------')\n",
        "\n",
        "deep_list[0][0] = 100\n",
        "print(deep_list)\n",
        "print(l1)\n"
      ],
      "metadata": {
        "colab": {
          "base_uri": "https://localhost:8080/"
        },
        "id": "8dXVLYXc-I78",
        "outputId": "1ab45d68-f927-4577-e1a3-26f5962be0b2"
      },
      "execution_count": null,
      "outputs": [
        {
          "output_type": "stream",
          "name": "stdout",
          "text": [
            "[[1, 2, 3], [4, 5, 6]]\n",
            "[[1, 2, 3], [4, 5, 6]]\n",
            "--------\n",
            "[[100, 2, 3], [4, 5, 6]]\n",
            "[[1, 2, 3], [4, 5, 6]]\n"
          ]
        }
      ]
    },
    {
      "cell_type": "code",
      "source": [],
      "metadata": {
        "id": "ouaCdJFj-KeF"
      },
      "execution_count": null,
      "outputs": []
    },
    {
      "cell_type": "code",
      "source": [],
      "metadata": {
        "id": "S8jeyVk2-SqK"
      },
      "execution_count": null,
      "outputs": []
    }
  ]
}